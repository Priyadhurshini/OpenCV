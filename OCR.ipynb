{
 "cells": [
  {
   "cell_type": "code",
   "execution_count": null,
   "id": "7b8c8100-5d23-413c-a5c1-053f60e5bda8",
   "metadata": {},
   "outputs": [],
   "source": [
    "import cv2\n",
    "import pytesseract as py \n",
    "import numpy as np\n",
    "\n",
    "new_image = \"images/index_02.png\"\n",
    "img = cv2.imread(new_image)\n",
    "base_img = img.copy()\n",
    "cv2.imshow(\"Image\",img)\n",
    "cv2.waitKey(0) \n"
   ]
  },
  {
   "cell_type": "code",
   "execution_count": null,
   "id": "d2ee90a4-8d4d-4a8d-9d95-c7340c19c66a",
   "metadata": {},
   "outputs": [],
   "source": [
    "gray = cv2.cvtColor(img, cv2.COLOR_BGR2GRAY)\n",
    "cv2.imwrite(\"temp/index_gray.png\", gray)\n"
   ]
  },
  {
   "cell_type": "code",
   "execution_count": null,
   "id": "776f3162-8443-4332-8d5d-1b8aee943528",
   "metadata": {},
   "outputs": [],
   "source": [
    "blur = cv2.GaussianBlur(gray, (7,7),0)\n",
    "cv2.imwrite(\"temp/index_blur.png\", blur)\n"
   ]
  },
  {
   "cell_type": "code",
   "execution_count": null,
   "id": "2ed25122-1d19-4e70-a400-9680927e18ef",
   "metadata": {},
   "outputs": [],
   "source": [
    "thresh = cv2.threshold(blur, 0, 255, cv2.THRESH_BINARY_INV + cv2.THRESH_OTSU)[1]\n",
    "cv2.imwrite(\"temp/index_thresh.png\", thresh)\n"
   ]
  },
  {
   "cell_type": "code",
   "execution_count": null,
   "id": "a3ca3171-4246-4075-802e-3a4bb5f24a48",
   "metadata": {},
   "outputs": [],
   "source": [
    "kernel = cv2.getStructuringElement(cv2.MORPH_RECT, (3, 13))\n",
    "cv2.imwrite(\"temp/index_kernel.png\", kernel)\n"
   ]
  },
  {
   "cell_type": "code",
   "execution_count": null,
   "id": "69250e78-e1c7-4187-bf74-661408224c9a",
   "metadata": {},
   "outputs": [],
   "source": [
    "dilate = cv2.dilate(thresh, kernel, iterations = 1)\n",
    "cv2.imwrite(\"temp/index_dilate.png\", dilate)\n"
   ]
  },
  {
   "cell_type": "code",
   "execution_count": null,
   "id": "1c0b2bc5-7c15-4f6c-901a-1d572ca4452c",
   "metadata": {},
   "outputs": [],
   "source": [
    "cnts = cv2.findContours(dilate, cv2.RETR_EXTERNAL, cv2.CHAIN_APPROX_SIMPLE)\n",
    "cnts = cnts[0] if len(cnts) == 2 else cnts[1]\n",
    "cnts = sorted(cnts, key= lambda x: cv2.boundingRect(x)[0])"
   ]
  },
  {
   "cell_type": "code",
   "execution_count": null,
   "id": "14035721-62ec-4e52-a1d0-e9f96d6ef0a1",
   "metadata": {},
   "outputs": [],
   "source": [
    "for c in cnts:\n",
    "    x, y, w, h = cv2.boundingRect(c)\n",
    "    if h > 200 and w > 20:\n",
    "        roi = img [y:y +h , x:x +w]\n",
    "        filename=\"temp/index_roi\"+str(h)+\".png\"\n",
    "        print(filename)\n",
    "        cv2.imwrite(filename, roi)\n",
    "        py.pytesseract.tesseract_cmd = \"C:\\\\Program Files\\\\Tesseract-OCR\\\\tesseract.exe\"\n",
    "        ocr_result = py.image_to_string(roi)\n",
    "        print(ocr_result)\n",
    "        \n",
    "cv2.imwrite(\"temp/index_bbox.png\", img)\n"
   ]
  },
  {
   "cell_type": "code",
   "execution_count": null,
   "id": "723d4803-8cdd-4c98-b5d4-79254a2b11ef",
   "metadata": {},
   "outputs": [],
   "source": []
  },
  {
   "cell_type": "code",
   "execution_count": null,
   "id": "cf25b48a-7352-4053-a1ee-60dc3ee6233c",
   "metadata": {},
   "outputs": [],
   "source": []
  },
  {
   "cell_type": "code",
   "execution_count": null,
   "id": "9f40b10b-8150-4b63-a59b-8a0031e5ba08",
   "metadata": {},
   "outputs": [],
   "source": []
  },
  {
   "cell_type": "code",
   "execution_count": null,
   "id": "969243b7-6ff2-4e08-9c65-4e0dce95c44d",
   "metadata": {},
   "outputs": [],
   "source": []
  }
 ],
 "metadata": {
  "kernelspec": {
   "display_name": "Python 3 (ipykernel)",
   "language": "python",
   "name": "python3"
  },
  "language_info": {
   "codemirror_mode": {
    "name": "ipython",
    "version": 3
   },
   "file_extension": ".py",
   "mimetype": "text/x-python",
   "name": "python",
   "nbconvert_exporter": "python",
   "pygments_lexer": "ipython3",
   "version": "3.11.4"
  }
 },
 "nbformat": 4,
 "nbformat_minor": 5
}
